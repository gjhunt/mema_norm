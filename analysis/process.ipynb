{
 "cells": [
  {
   "cell_type": "markdown",
   "metadata": {
    "lines_to_next_cell": 0
   },
   "source": [
    "# 1. Pre-reqs\n",
    "We may need to install the rrscale and memnorm packages"
   ]
  },
  {
   "cell_type": "code",
   "execution_count": 3,
   "metadata": {},
   "outputs": [
    {
     "name": "stderr",
     "output_type": "stream",
     "text": [
      "Installing package into ‘/home/greg/R/x86_64-pc-linux-gnu-library/4.0’\n",
      "(as ‘lib’ is unspecified)\n",
      "\n",
      "Installing package into ‘/home/greg/R/x86_64-pc-linux-gnu-library/4.0’\n",
      "(as ‘lib’ is unspecified)\n",
      "\n"
     ]
    }
   ],
   "source": [
    "#install.packages('../r_packages/rrscale_rpkg/rrscale_1.0.3.tar.gz', repos=NULL,type=\"source\")\n",
    "#install.packages('../r_packages/mema_norm_rpkg/memanorm_0.0.0.9004.tar.gz', repos=NULL,type=\"source\")"
   ]
  },
  {
   "cell_type": "code",
   "execution_count": 2,
   "metadata": {},
   "outputs": [
    {
     "name": "stderr",
     "output_type": "stream",
     "text": [
      "\n",
      "Attaching package: ‘memanorm’\n",
      "\n",
      "\n",
      "The following object is masked from ‘package:rrscale’:\n",
      "\n",
      "    svdc\n",
      "\n",
      "\n"
     ]
    }
   ],
   "source": [
    "library('rrscale')\n",
    "library('memanorm')\n",
    "source('processing_scripts/util.R')"
   ]
  },
  {
   "cell_type": "markdown",
   "metadata": {
    "lines_to_next_cell": 0
   },
   "source": [
    "and then we'll set up a directory for the processed data"
   ]
  },
  {
   "cell_type": "code",
   "execution_count": 3,
   "metadata": {},
   "outputs": [],
   "source": [
    "# identifying tag for the data\n",
    "tag = \"MCF10A\"\n",
    "\n",
    "# directory to put processed data\n",
    "ddir ='processed_data/'%+%tag%+%\"/\"\n",
    "dir.create(ddir,showWarning=FALSE,recursive=TRUE)"
   ]
  },
  {
   "cell_type": "markdown",
   "metadata": {
    "lines_to_next_cell": 0
   },
   "source": [
    "Now let's make a list containing the feature matrices "
   ]
  },
  {
   "cell_type": "code",
   "execution_count": 4,
   "metadata": {},
   "outputs": [
    {
     "name": "stderr",
     "output_type": "stream",
     "text": [
      "\n",
      "Attaching package: ‘dplyr’\n",
      "\n",
      "\n",
      "The following objects are masked from ‘package:stats’:\n",
      "\n",
      "    filter, lag\n",
      "\n",
      "\n",
      "The following objects are masked from ‘package:base’:\n",
      "\n",
      "    intersect, setdiff, setequal, union\n",
      "\n",
      "\n",
      "\n",
      "Attaching package: ‘data.table’\n",
      "\n",
      "\n",
      "The following object is masked _by_ ‘.GlobalEnv’:\n",
      "\n",
      "    .N\n",
      "\n",
      "\n",
      "The following objects are masked from ‘package:dplyr’:\n",
      "\n",
      "    between, first, last\n",
      "\n",
      "\n"
     ]
    }
   ],
   "source": [
    "source('processing_scripts/make_data_matrices.R') # helper script\n",
    "tsv_dir = 'raw_data/'%+%tag%+%'/'\n",
    "data = make_data_matrices(tsv_dir)"
   ]
  },
  {
   "cell_type": "markdown",
   "metadata": {},
   "source": [
    "here each feature matrix is has a row for each well and a column for each spot. We can look at the dimension of the first few feature matrices"
   ]
  },
  {
   "cell_type": "code",
   "execution_count": 5,
   "metadata": {},
   "outputs": [
    {
     "data": {
      "text/html": [
       "<dl>\n",
       "\t<dt>$WellIndex</dt>\n",
       "\t\t<dd><style>\n",
       ".list-inline {list-style: none; margin:0; padding: 0}\n",
       ".list-inline>li {display: inline-block}\n",
       ".list-inline>li:not(:last-child)::after {content: \"\\00b7\"; padding: 0 .5ex}\n",
       "</style>\n",
       "<ol class=list-inline><li>192</li><li>667</li></ol>\n",
       "</dd>\n",
       "\t<dt>$ArrayRow</dt>\n",
       "\t\t<dd><style>\n",
       ".list-inline {list-style: none; margin:0; padding: 0}\n",
       ".list-inline>li {display: inline-block}\n",
       ".list-inline>li:not(:last-child)::after {content: \"\\00b7\"; padding: 0 .5ex}\n",
       "</style>\n",
       "<ol class=list-inline><li>192</li><li>667</li></ol>\n",
       "</dd>\n",
       "\t<dt>$ArrayColumn</dt>\n",
       "\t\t<dd><style>\n",
       ".list-inline {list-style: none; margin:0; padding: 0}\n",
       ".list-inline>li {display: inline-block}\n",
       ".list-inline>li:not(:last-child)::after {content: \"\\00b7\"; padding: 0 .5ex}\n",
       "</style>\n",
       "<ol class=list-inline><li>192</li><li>667</li></ol>\n",
       "</dd>\n",
       "\t<dt>$Barcode</dt>\n",
       "\t\t<dd><style>\n",
       ".list-inline {list-style: none; margin:0; padding: 0}\n",
       ".list-inline>li {display: inline-block}\n",
       ".list-inline>li:not(:last-child)::after {content: \"\\00b7\"; padding: 0 .5ex}\n",
       "</style>\n",
       "<ol class=list-inline><li>192</li><li>667</li></ol>\n",
       "</dd>\n",
       "\t<dt>$Well</dt>\n",
       "\t\t<dd><style>\n",
       ".list-inline {list-style: none; margin:0; padding: 0}\n",
       ".list-inline>li {display: inline-block}\n",
       ".list-inline>li:not(:last-child)::after {content: \"\\00b7\"; padding: 0 .5ex}\n",
       "</style>\n",
       "<ol class=list-inline><li>192</li><li>667</li></ol>\n",
       "</dd>\n",
       "\t<dt>$Spot</dt>\n",
       "\t\t<dd><style>\n",
       ".list-inline {list-style: none; margin:0; padding: 0}\n",
       ".list-inline>li {display: inline-block}\n",
       ".list-inline>li:not(:last-child)::after {content: \"\\00b7\"; padding: 0 .5ex}\n",
       "</style>\n",
       "<ol class=list-inline><li>192</li><li>667</li></ol>\n",
       "</dd>\n",
       "</dl>\n"
      ],
      "text/latex": [
       "\\begin{description}\n",
       "\\item[\\$WellIndex] \\begin{enumerate*}\n",
       "\\item 192\n",
       "\\item 667\n",
       "\\end{enumerate*}\n",
       "\n",
       "\\item[\\$ArrayRow] \\begin{enumerate*}\n",
       "\\item 192\n",
       "\\item 667\n",
       "\\end{enumerate*}\n",
       "\n",
       "\\item[\\$ArrayColumn] \\begin{enumerate*}\n",
       "\\item 192\n",
       "\\item 667\n",
       "\\end{enumerate*}\n",
       "\n",
       "\\item[\\$Barcode] \\begin{enumerate*}\n",
       "\\item 192\n",
       "\\item 667\n",
       "\\end{enumerate*}\n",
       "\n",
       "\\item[\\$Well] \\begin{enumerate*}\n",
       "\\item 192\n",
       "\\item 667\n",
       "\\end{enumerate*}\n",
       "\n",
       "\\item[\\$Spot] \\begin{enumerate*}\n",
       "\\item 192\n",
       "\\item 667\n",
       "\\end{enumerate*}\n",
       "\n",
       "\\end{description}\n"
      ],
      "text/markdown": [
       "$WellIndex\n",
       ":   1. 192\n",
       "2. 667\n",
       "\n",
       "\n",
       "\n",
       "$ArrayRow\n",
       ":   1. 192\n",
       "2. 667\n",
       "\n",
       "\n",
       "\n",
       "$ArrayColumn\n",
       ":   1. 192\n",
       "2. 667\n",
       "\n",
       "\n",
       "\n",
       "$Barcode\n",
       ":   1. 192\n",
       "2. 667\n",
       "\n",
       "\n",
       "\n",
       "$Well\n",
       ":   1. 192\n",
       "2. 667\n",
       "\n",
       "\n",
       "\n",
       "$Spot\n",
       ":   1. 192\n",
       "2. 667\n",
       "\n",
       "\n",
       "\n",
       "\n",
       "\n"
      ],
      "text/plain": [
       "$WellIndex\n",
       "[1] 192 667\n",
       "\n",
       "$ArrayRow\n",
       "[1] 192 667\n",
       "\n",
       "$ArrayColumn\n",
       "[1] 192 667\n",
       "\n",
       "$Barcode\n",
       "[1] 192 667\n",
       "\n",
       "$Well\n",
       "[1] 192 667\n",
       "\n",
       "$Spot\n",
       "[1] 192 667\n"
      ]
     },
     "metadata": {},
     "output_type": "display_data"
    }
   ],
   "source": [
    "head(lapply(data,dim))"
   ]
  },
  {
   "cell_type": "markdown",
   "metadata": {},
   "source": [
    "we'll make the list of features we want to RR transform"
   ]
  },
  {
   "cell_type": "code",
   "execution_count": 6,
   "metadata": {},
   "outputs": [
    {
     "data": {
      "text/html": [
       "<style>\n",
       ".list-inline {list-style: none; margin:0; padding: 0}\n",
       ".list-inline>li {display: inline-block}\n",
       ".list-inline>li:not(:last-child)::after {content: \"\\00b7\"; padding: 0 .5ex}\n",
       "</style>\n",
       "<ol class=list-inline><li>'Nuclei_CP_AreaShape_Extent'</li><li>'Cytoplasm_CP_AreaShape_Area'</li><li>'Nuclei_CP_Texture_Contrast_Fibrillarin_3_0'</li><li>'Cytoplasm_CP_Intensity_IntegratedIntensity_Dapi'</li><li>'Nuclei_CP_AreaShape_Orientation'</li></ol>\n"
      ],
      "text/latex": [
       "\\begin{enumerate*}\n",
       "\\item 'Nuclei\\_CP\\_AreaShape\\_Extent'\n",
       "\\item 'Cytoplasm\\_CP\\_AreaShape\\_Area'\n",
       "\\item 'Nuclei\\_CP\\_Texture\\_Contrast\\_Fibrillarin\\_3\\_0'\n",
       "\\item 'Cytoplasm\\_CP\\_Intensity\\_IntegratedIntensity\\_Dapi'\n",
       "\\item 'Nuclei\\_CP\\_AreaShape\\_Orientation'\n",
       "\\end{enumerate*}\n"
      ],
      "text/markdown": [
       "1. 'Nuclei_CP_AreaShape_Extent'\n",
       "2. 'Cytoplasm_CP_AreaShape_Area'\n",
       "3. 'Nuclei_CP_Texture_Contrast_Fibrillarin_3_0'\n",
       "4. 'Cytoplasm_CP_Intensity_IntegratedIntensity_Dapi'\n",
       "5. 'Nuclei_CP_AreaShape_Orientation'\n",
       "\n",
       "\n"
      ],
      "text/plain": [
       "[1] \"Nuclei_CP_AreaShape_Extent\"                     \n",
       "[2] \"Cytoplasm_CP_AreaShape_Area\"                    \n",
       "[3] \"Nuclei_CP_Texture_Contrast_Fibrillarin_3_0\"     \n",
       "[4] \"Cytoplasm_CP_Intensity_IntegratedIntensity_Dapi\"\n",
       "[5] \"Nuclei_CP_AreaShape_Orientation\"                "
      ]
     },
     "metadata": {},
     "output_type": "display_data"
    }
   ],
   "source": [
    "to_rr = grep(\"_PA_|_CP_\",names(data),value=TRUE)\n",
    "to_rr = to_rr[!grepl(\"_SE\",to_rr)]\n",
    "unum = sapply(to_rr,function(x)length(unique(unlist(data[[x]]))))\n",
    "to_rr = names(unum[unum>20])\n",
    "sample(to_rr,5)"
   ]
  },
  {
   "cell_type": "markdown",
   "metadata": {},
   "source": [
    "and then save the feature matrices and list of features"
   ]
  },
  {
   "cell_type": "code",
   "execution_count": 7,
   "metadata": {},
   "outputs": [],
   "source": [
    "dl = list(data=data,rr_feats = to_rr)\n",
    "saveRDS(dl,ddir%+%tag%+%'.rds')"
   ]
  },
  {
   "cell_type": "markdown",
   "metadata": {},
   "source": [
    "now we can apply the RR transformation to the matrices (this can take a while)"
   ]
  },
  {
   "cell_type": "markdown",
   "metadata": {},
   "source": [
    "# 2. RRScale"
   ]
  },
  {
   "cell_type": "code",
   "execution_count": 8,
   "metadata": {},
   "outputs": [
    {
     "name": "stdout",
     "output_type": "stream",
     "text": [
      "Reading from cache.\n"
     ]
    }
   ],
   "source": [
    "source('processing_scripts/estimate.R',chdir=TRUE)\n",
    "scaledY_file = ddir%+%\"scaledY_\"%+%tag%+%\".rds\"\n",
    "if(file.exists(scaledY_file)){\n",
    "    cat(\"Reading from cache.\\n\")\n",
    "    scaledY = readRDS(scaledY_file)\n",
    "} else {\n",
    "    cat(\"No cache, re-running.\\n\")\n",
    "    scaledY = scale_data(dl)\n",
    "    saveRDS(scaledY,file=scaledY_file)\n",
    "}"
   ]
  },
  {
   "cell_type": "markdown",
   "metadata": {},
   "source": [
    "Finally, we'll print the session info for reproducibility"
   ]
  },
  {
   "cell_type": "markdown",
   "metadata": {},
   "source": [
    "# 3. Clean up spatial effects"
   ]
  },
  {
   "cell_type": "code",
   "execution_count": 9,
   "metadata": {},
   "outputs": [],
   "source": [
    "base_fmats = dl$data\n",
    "rr_fmats = lapply(scaledY,\"[[\",\"RR\")\n",
    "\n",
    "ecmps = factor(unlist(base_fmats$ECMp[1,]))\n",
    "ligands = factor(unlist(base_fmats$Ligand[,1]))"
   ]
  },
  {
   "cell_type": "markdown",
   "metadata": {},
   "source": [
    "find which features are measured in all batches for normalization (the \"dapi\" features)"
   ]
  },
  {
   "cell_type": "code",
   "execution_count": 10,
   "metadata": {},
   "outputs": [
    {
     "data": {
      "text/html": [
       "<style>\n",
       ".list-inline {list-style: none; margin:0; padding: 0}\n",
       ".list-inline>li {display: inline-block}\n",
       ".list-inline>li:not(:last-child)::after {content: \"\\00b7\"; padding: 0 .5ex}\n",
       "</style>\n",
       "<ol class=list-inline><li>'Nuclei_CP_AreaShape_Area'</li><li>'Nuclei_CP_AreaShape_Compactness'</li><li>'Nuclei_CP_AreaShape_Eccentricity'</li><li>'Nuclei_CP_AreaShape_Extent'</li><li>'Nuclei_CP_AreaShape_FormFactor'</li><li>'Nuclei_CP_AreaShape_MajorAxisLength'</li><li>'Nuclei_CP_AreaShape_MaxFeretDiameter'</li><li>'Nuclei_CP_AreaShape_MaximumRadius'</li><li>'Nuclei_CP_AreaShape_MeanRadius'</li><li>'Nuclei_CP_AreaShape_MedianRadius'</li><li>'Nuclei_CP_AreaShape_MinFeretDiameter'</li><li>'Nuclei_CP_AreaShape_MinorAxisLength'</li><li>'Nuclei_CP_AreaShape_Orientation'</li><li>'Nuclei_CP_AreaShape_Perimeter'</li><li>'Nuclei_CP_AreaShape_Solidity'</li><li>'Nuclei_CP_Intensity_IntegratedIntensity_Dapi'</li><li>'Nuclei_CP_Intensity_MedianIntensity_Dapi'</li><li>'Nuclei_PA_AreaShape_Neighbors'</li><li>'Spot_PA_SpotCellCount'</li><li>'Nuclei_PA_Cycle_DNA2NProportion'</li><li>'Nuclei_PA_Cycle_DNA4NProportion'</li></ol>\n"
      ],
      "text/latex": [
       "\\begin{enumerate*}\n",
       "\\item 'Nuclei\\_CP\\_AreaShape\\_Area'\n",
       "\\item 'Nuclei\\_CP\\_AreaShape\\_Compactness'\n",
       "\\item 'Nuclei\\_CP\\_AreaShape\\_Eccentricity'\n",
       "\\item 'Nuclei\\_CP\\_AreaShape\\_Extent'\n",
       "\\item 'Nuclei\\_CP\\_AreaShape\\_FormFactor'\n",
       "\\item 'Nuclei\\_CP\\_AreaShape\\_MajorAxisLength'\n",
       "\\item 'Nuclei\\_CP\\_AreaShape\\_MaxFeretDiameter'\n",
       "\\item 'Nuclei\\_CP\\_AreaShape\\_MaximumRadius'\n",
       "\\item 'Nuclei\\_CP\\_AreaShape\\_MeanRadius'\n",
       "\\item 'Nuclei\\_CP\\_AreaShape\\_MedianRadius'\n",
       "\\item 'Nuclei\\_CP\\_AreaShape\\_MinFeretDiameter'\n",
       "\\item 'Nuclei\\_CP\\_AreaShape\\_MinorAxisLength'\n",
       "\\item 'Nuclei\\_CP\\_AreaShape\\_Orientation'\n",
       "\\item 'Nuclei\\_CP\\_AreaShape\\_Perimeter'\n",
       "\\item 'Nuclei\\_CP\\_AreaShape\\_Solidity'\n",
       "\\item 'Nuclei\\_CP\\_Intensity\\_IntegratedIntensity\\_Dapi'\n",
       "\\item 'Nuclei\\_CP\\_Intensity\\_MedianIntensity\\_Dapi'\n",
       "\\item 'Nuclei\\_PA\\_AreaShape\\_Neighbors'\n",
       "\\item 'Spot\\_PA\\_SpotCellCount'\n",
       "\\item 'Nuclei\\_PA\\_Cycle\\_DNA2NProportion'\n",
       "\\item 'Nuclei\\_PA\\_Cycle\\_DNA4NProportion'\n",
       "\\end{enumerate*}\n"
      ],
      "text/markdown": [
       "1. 'Nuclei_CP_AreaShape_Area'\n",
       "2. 'Nuclei_CP_AreaShape_Compactness'\n",
       "3. 'Nuclei_CP_AreaShape_Eccentricity'\n",
       "4. 'Nuclei_CP_AreaShape_Extent'\n",
       "5. 'Nuclei_CP_AreaShape_FormFactor'\n",
       "6. 'Nuclei_CP_AreaShape_MajorAxisLength'\n",
       "7. 'Nuclei_CP_AreaShape_MaxFeretDiameter'\n",
       "8. 'Nuclei_CP_AreaShape_MaximumRadius'\n",
       "9. 'Nuclei_CP_AreaShape_MeanRadius'\n",
       "10. 'Nuclei_CP_AreaShape_MedianRadius'\n",
       "11. 'Nuclei_CP_AreaShape_MinFeretDiameter'\n",
       "12. 'Nuclei_CP_AreaShape_MinorAxisLength'\n",
       "13. 'Nuclei_CP_AreaShape_Orientation'\n",
       "14. 'Nuclei_CP_AreaShape_Perimeter'\n",
       "15. 'Nuclei_CP_AreaShape_Solidity'\n",
       "16. 'Nuclei_CP_Intensity_IntegratedIntensity_Dapi'\n",
       "17. 'Nuclei_CP_Intensity_MedianIntensity_Dapi'\n",
       "18. 'Nuclei_PA_AreaShape_Neighbors'\n",
       "19. 'Spot_PA_SpotCellCount'\n",
       "20. 'Nuclei_PA_Cycle_DNA2NProportion'\n",
       "21. 'Nuclei_PA_Cycle_DNA4NProportion'\n",
       "\n",
       "\n"
      ],
      "text/plain": [
       " [1] \"Nuclei_CP_AreaShape_Area\"                    \n",
       " [2] \"Nuclei_CP_AreaShape_Compactness\"             \n",
       " [3] \"Nuclei_CP_AreaShape_Eccentricity\"            \n",
       " [4] \"Nuclei_CP_AreaShape_Extent\"                  \n",
       " [5] \"Nuclei_CP_AreaShape_FormFactor\"              \n",
       " [6] \"Nuclei_CP_AreaShape_MajorAxisLength\"         \n",
       " [7] \"Nuclei_CP_AreaShape_MaxFeretDiameter\"        \n",
       " [8] \"Nuclei_CP_AreaShape_MaximumRadius\"           \n",
       " [9] \"Nuclei_CP_AreaShape_MeanRadius\"              \n",
       "[10] \"Nuclei_CP_AreaShape_MedianRadius\"            \n",
       "[11] \"Nuclei_CP_AreaShape_MinFeretDiameter\"        \n",
       "[12] \"Nuclei_CP_AreaShape_MinorAxisLength\"         \n",
       "[13] \"Nuclei_CP_AreaShape_Orientation\"             \n",
       "[14] \"Nuclei_CP_AreaShape_Perimeter\"               \n",
       "[15] \"Nuclei_CP_AreaShape_Solidity\"                \n",
       "[16] \"Nuclei_CP_Intensity_IntegratedIntensity_Dapi\"\n",
       "[17] \"Nuclei_CP_Intensity_MedianIntensity_Dapi\"    \n",
       "[18] \"Nuclei_PA_AreaShape_Neighbors\"               \n",
       "[19] \"Spot_PA_SpotCellCount\"                       \n",
       "[20] \"Nuclei_PA_Cycle_DNA2NProportion\"             \n",
       "[21] \"Nuclei_PA_Cycle_DNA4NProportion\"             "
      ]
     },
     "metadata": {},
     "output_type": "display_data"
    }
   ],
   "source": [
    "all_missing = sapply(rr_fmats,function(y)apply(y,1,function(x)all(!is.finite(x))))\n",
    "all_batches = apply(!all_missing,2,all)\n",
    "all_batches = names(all_batches[all_batches])\n",
    "all_batches = all_batches[!grepl(\"Loess\",all_batches)]\n",
    "all_batches"
   ]
  },
  {
   "cell_type": "code",
   "execution_count": 53,
   "metadata": {},
   "outputs": [],
   "source": [
    "#devtools::load_all('../r_packages/mema_norm_rpkg/memanorm')\n",
    "d_none = 0\n",
    "unadj_norm_out = remove_spatial(f_mats = rr_fmats,\n",
    "                  adj_idx = all_batches,\n",
    "                  row_rep = ligands,\n",
    "                  col_rep = ecmps,\n",
    "                  d=d_none,\n",
    "                  verbose=FALSE)\n",
    "unadj_fmats=unadj_norm_out$f_adj\n",
    "names(unadj_fmats) <- names(unadj_fmats)%+%\"_RR\"\n",
    "saveRDS(unadj_fmats,ddir%+%\"unadjusted_rr_\"%+%d_none%+%\"_\"%+%tag%+%\".rds\")"
   ]
  },
  {
   "cell_type": "code",
   "execution_count": 48,
   "metadata": {},
   "outputs": [
    {
     "name": "stderr",
     "output_type": "stream",
     "text": [
      "\n",
      "Imputing [>-------------------------------------------------------------------------] 2/116 (  2%) elapsed:  3s eta:  3m\n",
      "\n",
      "Imputing [=>------------------------------------------------------------------------] 3/116 (  3%) elapsed:  4s eta:  3m\n",
      "\n",
      "Imputing [==>-----------------------------------------------------------------------] 4/116 (  3%) elapsed:  5s eta:  3m\n",
      "\n",
      "Imputing [==>-----------------------------------------------------------------------] 5/116 (  4%) elapsed:  6s eta:  2m\n",
      "\n",
      "Imputing [===>----------------------------------------------------------------------] 6/116 (  5%) elapsed:  8s eta:  2m\n",
      "\n",
      "Imputing [===>----------------------------------------------------------------------] 7/116 (  6%) elapsed:  9s eta:  2m\n",
      "\n",
      "Imputing [====>---------------------------------------------------------------------] 8/116 (  7%) elapsed: 10s eta:  2m\n",
      "\n",
      "Imputing [=====>--------------------------------------------------------------------] 9/116 (  8%) elapsed: 11s eta:  2m\n",
      "\n",
      "Imputing [=====>-------------------------------------------------------------------] 10/116 (  9%) elapsed: 12s eta:  2m\n",
      "\n",
      "Imputing [======>------------------------------------------------------------------] 11/116 (  9%) elapsed: 13s eta:  2m\n",
      "\n",
      "Imputing [=======>-----------------------------------------------------------------] 12/116 ( 10%) elapsed: 14s eta:  2m\n",
      "\n",
      "Imputing [=======>-----------------------------------------------------------------] 13/116 ( 11%) elapsed: 15s eta:  2m\n",
      "\n",
      "Imputing [========>----------------------------------------------------------------] 14/116 ( 12%) elapsed: 16s eta:  2m\n",
      "\n",
      "Imputing [========>----------------------------------------------------------------] 15/116 ( 13%) elapsed: 17s eta:  2m\n",
      "\n",
      "Imputing [=========>---------------------------------------------------------------] 16/116 ( 14%) elapsed: 18s eta:  2m\n",
      "\n",
      "Imputing [==========>--------------------------------------------------------------] 17/116 ( 15%) elapsed: 19s eta:  2m\n",
      "\n",
      "Imputing [==========>--------------------------------------------------------------] 18/116 ( 16%) elapsed: 20s eta:  2m\n",
      "\n",
      "Imputing [===========>-------------------------------------------------------------] 19/116 ( 16%) elapsed: 21s eta:  2m\n",
      "\n",
      "Imputing [============>------------------------------------------------------------] 20/116 ( 17%) elapsed: 22s eta:  2m\n",
      "\n",
      "Imputing [============>------------------------------------------------------------] 21/116 ( 18%) elapsed: 23s eta:  2m\n",
      "\n",
      "Imputing [=============>-----------------------------------------------------------] 22/116 ( 19%) elapsed: 26s eta:  2m\n",
      "\n",
      "Imputing [=============>-----------------------------------------------------------] 23/116 ( 20%) elapsed: 27s eta:  2m\n",
      "\n",
      "Imputing [==============>----------------------------------------------------------] 24/116 ( 21%) elapsed: 28s eta:  2m\n",
      "\n",
      "Imputing [===============>---------------------------------------------------------] 25/116 ( 22%) elapsed: 29s eta:  2m\n",
      "\n",
      "Imputing [===============>---------------------------------------------------------] 26/116 ( 22%) elapsed: 30s eta:  2m\n",
      "\n",
      "Imputing [================>--------------------------------------------------------] 27/116 ( 23%) elapsed: 31s eta:  2m\n",
      "\n",
      "Imputing [=================>-------------------------------------------------------] 28/116 ( 24%) elapsed: 32s eta:  2m\n",
      "\n",
      "Imputing [=================>-------------------------------------------------------] 29/116 ( 25%) elapsed: 33s eta:  2m\n",
      "\n",
      "Imputing [==================>------------------------------------------------------] 30/116 ( 26%) elapsed: 34s eta:  2m\n",
      "\n",
      "Imputing [===================>-----------------------------------------------------] 31/116 ( 27%) elapsed: 35s eta:  2m\n",
      "\n",
      "Imputing [===================>-----------------------------------------------------] 32/116 ( 28%) elapsed: 36s eta:  2m\n",
      "\n",
      "Imputing [====================>----------------------------------------------------] 33/116 ( 28%) elapsed: 37s eta:  2m\n",
      "\n",
      "Imputing [====================>----------------------------------------------------] 34/116 ( 29%) elapsed: 38s eta:  2m\n",
      "\n",
      "Imputing [=====================>---------------------------------------------------] 35/116 ( 30%) elapsed: 39s eta:  1m\n",
      "\n",
      "Imputing [======================>--------------------------------------------------] 36/116 ( 31%) elapsed: 40s eta:  1m\n",
      "\n",
      "Imputing [======================>--------------------------------------------------] 37/116 ( 32%) elapsed: 41s eta:  1m\n",
      "\n",
      "Imputing [=======================>-------------------------------------------------] 38/116 ( 33%) elapsed: 42s eta:  1m\n",
      "\n",
      "Imputing [========================>------------------------------------------------] 39/116 ( 34%) elapsed: 43s eta:  1m\n",
      "\n",
      "Imputing [========================>------------------------------------------------] 40/116 ( 34%) elapsed: 44s eta:  1m\n",
      "\n",
      "Imputing [=========================>-----------------------------------------------] 41/116 ( 35%) elapsed: 45s eta:  1m\n",
      "\n",
      "Imputing [=========================>-----------------------------------------------] 42/116 ( 36%) elapsed: 46s eta:  1m\n",
      "\n",
      "Imputing [==========================>----------------------------------------------] 43/116 ( 37%) elapsed: 47s eta:  1m\n",
      "\n",
      "Imputing [===========================>---------------------------------------------] 44/116 ( 38%) elapsed: 48s eta:  1m\n",
      "\n",
      "Imputing [===========================>---------------------------------------------] 45/116 ( 39%) elapsed: 49s eta:  1m\n",
      "\n",
      "Imputing [============================>--------------------------------------------] 46/116 ( 40%) elapsed: 50s eta:  1m\n",
      "\n",
      "Imputing [=============================>-------------------------------------------] 47/116 ( 41%) elapsed:  1m eta:  1m\n",
      "\n",
      "Imputing [=============================>-------------------------------------------] 48/116 ( 41%) elapsed:  1m eta:  1m\n",
      "\n",
      "Imputing [==============================>------------------------------------------] 49/116 ( 42%) elapsed:  1m eta:  1m\n",
      "\n",
      "Imputing [==============================>------------------------------------------] 50/116 ( 43%) elapsed:  1m eta:  1m\n",
      "\n",
      "Imputing [===============================>-----------------------------------------] 51/116 ( 44%) elapsed:  1m eta:  1m\n",
      "\n",
      "Imputing [================================>----------------------------------------] 52/116 ( 45%) elapsed:  1m eta:  1m\n",
      "\n",
      "Imputing [================================>----------------------------------------] 53/116 ( 46%) elapsed:  1m eta:  1m\n",
      "\n",
      "Imputing [=================================>---------------------------------------] 54/116 ( 47%) elapsed:  1m eta:  1m\n",
      "\n",
      "Imputing [==================================>--------------------------------------] 55/116 ( 47%) elapsed:  1m eta:  1m\n",
      "\n",
      "Imputing [==================================>--------------------------------------] 56/116 ( 48%) elapsed:  1m eta:  1m\n",
      "\n",
      "Imputing [===================================>-------------------------------------] 57/116 ( 49%) elapsed:  1m eta:  1m\n",
      "\n",
      "Imputing [===================================>-------------------------------------] 58/116 ( 50%) elapsed:  1m eta:  1m\n",
      "\n",
      "Imputing [====================================>------------------------------------] 59/116 ( 51%) elapsed:  1m eta:  1m\n",
      "\n",
      "Imputing [=====================================>-----------------------------------] 60/116 ( 52%) elapsed:  1m eta:  1m\n",
      "\n",
      "Imputing [=====================================>-----------------------------------] 61/116 ( 53%) elapsed:  1m eta:  1m\n",
      "\n",
      "Imputing [======================================>----------------------------------] 62/116 ( 53%) elapsed:  1m eta:  1m\n",
      "\n",
      "Imputing [=======================================>---------------------------------] 63/116 ( 54%) elapsed:  1m eta:  1m\n",
      "\n",
      "Imputing [=======================================>---------------------------------] 64/116 ( 55%) elapsed:  1m eta:  1m\n",
      "\n",
      "Imputing [========================================>--------------------------------] 65/116 ( 56%) elapsed:  1m eta:  1m\n",
      "\n",
      "Imputing [=========================================>-------------------------------] 66/116 ( 57%) elapsed:  1m eta:  1m\n",
      "\n",
      "Imputing [=========================================>-------------------------------] 67/116 ( 58%) elapsed:  1m eta:  1m\n",
      "\n",
      "Imputing [==========================================>------------------------------] 68/116 ( 59%) elapsed:  1m eta:  1m\n",
      "\n",
      "Imputing [==========================================>------------------------------] 69/116 ( 59%) elapsed:  1m eta:  1m\n",
      "\n",
      "Imputing [===========================================>-----------------------------] 70/116 ( 60%) elapsed:  1m eta: 50s\n",
      "\n",
      "Imputing [============================================>----------------------------] 71/116 ( 61%) elapsed:  1m eta:  1m\n",
      "\n",
      "Imputing [============================================>----------------------------] 72/116 ( 62%) elapsed:  1m eta: 49s\n",
      "\n",
      "Imputing [=============================================>---------------------------] 73/116 ( 63%) elapsed:  1m eta: 48s\n",
      "\n",
      "Imputing [==============================================>--------------------------] 74/116 ( 64%) elapsed:  1m eta: 47s\n",
      "\n",
      "Imputing [==============================================>--------------------------] 75/116 ( 65%) elapsed:  1m eta: 46s\n",
      "\n",
      "Imputing [===============================================>-------------------------] 76/116 ( 66%) elapsed:  1m eta: 44s\n",
      "\n",
      "Imputing [===============================================>-------------------------] 77/116 ( 66%) elapsed:  1m eta: 43s\n",
      "\n",
      "Imputing [================================================>------------------------] 78/116 ( 67%) elapsed:  1m eta: 42s\n",
      "\n",
      "Imputing [=================================================>-----------------------] 79/116 ( 68%) elapsed:  1m eta: 41s\n",
      "\n",
      "Imputing [=================================================>-----------------------] 80/116 ( 69%) elapsed:  1m eta: 40s\n",
      "\n",
      "Imputing [==================================================>----------------------] 81/116 ( 70%) elapsed:  1m eta: 39s\n",
      "\n",
      "Imputing [===================================================>---------------------] 82/116 ( 71%) elapsed:  2m eta: 37s\n",
      "\n",
      "Imputing [===================================================>---------------------] 83/116 ( 72%) elapsed:  2m eta: 36s\n",
      "\n",
      "Imputing [====================================================>--------------------] 84/116 ( 72%) elapsed:  2m eta: 35s\n",
      "\n",
      "Imputing [====================================================>--------------------] 85/116 ( 73%) elapsed:  2m eta: 34s\n",
      "\n",
      "Imputing [=====================================================>-------------------] 86/116 ( 74%) elapsed:  2m eta: 33s\n",
      "\n",
      "Imputing [======================================================>------------------] 87/116 ( 75%) elapsed:  2m eta: 32s\n",
      "\n",
      "Imputing [======================================================>------------------] 88/116 ( 76%) elapsed:  2m eta: 31s\n",
      "\n",
      "Imputing [=======================================================>-----------------] 89/116 ( 77%) elapsed:  2m eta: 29s\n",
      "\n",
      "Imputing [========================================================>----------------] 90/116 ( 78%) elapsed:  2m eta: 28s\n",
      "\n",
      "Imputing [========================================================>----------------] 91/116 ( 78%) elapsed:  2m eta: 27s\n",
      "\n",
      "Imputing [=========================================================>---------------] 92/116 ( 79%) elapsed:  2m eta: 26s\n",
      "\n",
      "Imputing [==========================================================>--------------] 93/116 ( 80%) elapsed:  2m eta: 25s\n",
      "\n",
      "Imputing [==========================================================>--------------] 94/116 ( 81%) elapsed:  2m eta: 24s\n",
      "\n",
      "Imputing [===========================================================>-------------] 95/116 ( 82%) elapsed:  2m eta: 23s\n",
      "\n",
      "Imputing [===========================================================>-------------] 96/116 ( 83%) elapsed:  2m eta: 22s\n",
      "\n",
      "Imputing [============================================================>------------] 97/116 ( 84%) elapsed:  2m eta: 21s\n",
      "\n",
      "Imputing [=============================================================>-----------] 98/116 ( 84%) elapsed:  2m eta: 20s\n",
      "\n",
      "Imputing [=============================================================>-----------] 99/116 ( 85%) elapsed:  2m eta: 19s\n",
      "\n",
      "Imputing [=============================================================>----------] 100/116 ( 86%) elapsed:  2m eta: 18s\n",
      "\n",
      "Imputing [==============================================================>---------] 101/116 ( 87%) elapsed:  2m eta: 17s\n",
      "\n",
      "Imputing [==============================================================>---------] 102/116 ( 88%) elapsed:  2m eta: 15s\n",
      "\n",
      "Imputing [===============================================================>--------] 103/116 ( 89%) elapsed:  2m eta: 14s\n",
      "\n",
      "Imputing [================================================================>-------] 104/116 ( 90%) elapsed:  2m eta: 13s\n",
      "\n",
      "Imputing [================================================================>-------] 105/116 ( 91%) elapsed:  2m eta: 12s\n",
      "\n",
      "Imputing [=================================================================>------] 106/116 ( 91%) elapsed:  2m eta: 11s\n",
      "\n",
      "Imputing [=================================================================>------] 107/116 ( 92%) elapsed:  2m eta: 10s\n",
      "\n",
      "Imputing [==================================================================>-----] 108/116 ( 93%) elapsed:  2m eta:  9s\n",
      "\n",
      "Imputing [===================================================================>----] 109/116 ( 94%) elapsed:  2m eta:  8s\n",
      "\n",
      "Imputing [===================================================================>----] 110/116 ( 95%) elapsed:  2m eta:  7s\n",
      "\n",
      "Imputing [====================================================================>---] 111/116 ( 96%) elapsed:  2m eta:  5s\n",
      "\n",
      "Imputing [=====================================================================>--] 112/116 ( 97%) elapsed:  2m eta:  4s\n",
      "\n",
      "Imputing [=====================================================================>--] 113/116 ( 97%) elapsed:  2m eta:  3s\n",
      "\n",
      "Imputing [======================================================================>-] 114/116 ( 98%) elapsed:  2m eta:  2s\n",
      "\n",
      "Imputing [======================================================================>-] 115/116 ( 99%) elapsed:  2m eta:  1s\n",
      "\n",
      "Imputing [========================================================================] 116/116 (100%) elapsed:  2m eta:  0s\n",
      "                                                                                                                        \n",
      "\n"
     ]
    }
   ],
   "source": [
    "library('memanorm')\n",
    "d_adj=15\n",
    "norm_out = remove_spatial(f_mats = rr_fmats,\n",
    "                  adj_idx = all_batches,\n",
    "                  row_rep = ligands,\n",
    "                  col_rep = ecmps,\n",
    "                  d=d_adj,\n",
    "                  verbose=FALSE)\n",
    "adj_fmats=norm_out$f_adj\n",
    "names(adj_fmats) <- names(adj_fmats)%+%\"_RR_ADJ\"\n",
    "saveRDS(adj_fmats,ddir%+%\"adjusted_rr_\"%+%d_adj%+%\"_\"%+%tag%+%\".rds\")"
   ]
  },
  {
   "cell_type": "markdown",
   "metadata": {},
   "source": [
    "unadjusted features (same exact procedure but not removing spatial)"
   ]
  },
  {
   "cell_type": "markdown",
   "metadata": {},
   "source": [
    "# 4. make .csv data matrices"
   ]
  },
  {
   "cell_type": "code",
   "execution_count": 49,
   "metadata": {},
   "outputs": [],
   "source": [
    "dmsn = dim(base_fmats[[1]])\n",
    "fmat_col = array(rep(1:dmsn[2],each=dmsn[1]),dmsn)\n",
    "fmat_row = t(array(rep(1:dmsn[1],each=dmsn[2]),rev(dmsn)))\n",
    "fmat_dims = list(\"fcol\"=fmat_col,\"frow\"=fmat_row)"
   ]
  },
  {
   "cell_type": "code",
   "execution_count": 50,
   "metadata": {},
   "outputs": [],
   "source": [
    "library('data.table')\n",
    "all_fmats = c(base_fmats,unadj_fmats,adj_fmats,fmat_dims)\n",
    "all_fmats = lapply(all_fmats,data.table)"
   ]
  },
  {
   "cell_type": "code",
   "execution_count": 51,
   "metadata": {},
   "outputs": [],
   "source": [
    "ul_all_fmats = lapply(all_fmats,unlist)\n",
    "d = data.frame(ul_all_fmats)"
   ]
  },
  {
   "cell_type": "code",
   "execution_count": 52,
   "metadata": {},
   "outputs": [],
   "source": [
    "dir.create(ddir%+%\"csv/\",showWarnings=FALSE,recursive=TRUE)\n",
    "write.csv(x=d,file=ddir%+%\"csv/\"%+%tag%+%\"_\"%+%d_adj%+%\"_df.csv\")\n",
    "write.csv(names(adj_fmats),file=ddir%+%\"csv/\"%+%tag%+%\"_\"%+%d_adj%+%\"_features.csv\")"
   ]
  }
 ],
 "metadata": {
  "jupytext": {
   "cell_metadata_filter": "-all",
   "formats": "ipynb,Rmd,R"
  },
  "kernelspec": {
   "display_name": "R",
   "language": "R",
   "name": "ir"
  },
  "language_info": {
   "codemirror_mode": "r",
   "file_extension": ".r",
   "mimetype": "text/x-r-source",
   "name": "R",
   "pygments_lexer": "r",
   "version": "4.0.3"
  }
 },
 "nbformat": 4,
 "nbformat_minor": 4
}
