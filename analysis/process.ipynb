{
 "cells": [
  {
   "cell_type": "markdown",
   "metadata": {},
   "source": [
    "# 1. Pre-reqs\n",
    "We may need to install the rrscale and memnorm packages"
   ]
  },
  {
   "cell_type": "code",
   "execution_count": 1,
   "metadata": {},
   "outputs": [],
   "source": [
    "#install.packages('../r_packages/rrscale_rpkg/rrscale_1.0.3.tar.gz', repos=NULL,type=\"source\")\n",
    "#install.packages('../r_packages/mema_norm_rpkg/memanorm_0.0.0.9005.tar.gz', repos=NULL,type=\"source\")"
   ]
  },
  {
   "cell_type": "code",
   "execution_count": 2,
   "metadata": {},
   "outputs": [
    {
     "name": "stderr",
     "output_type": "stream",
     "text": [
      "\u001b[36mℹ\u001b[39m Loading \u001b[34m\u001b[34mmemanorm\u001b[34m\u001b[39m\n",
      "\n"
     ]
    }
   ],
   "source": [
    "library('rrscale')\n",
    "devtools::load_all('../r_packages/mema_norm_rpkg/memanorm/')\n",
    "source('processing_scripts/util.R')"
   ]
  },
  {
   "cell_type": "markdown",
   "metadata": {
    "lines_to_next_cell": 0
   },
   "source": [
    "# and then we'll set up a directory for the processed data"
   ]
  },
  {
   "cell_type": "code",
   "execution_count": 3,
   "metadata": {},
   "outputs": [],
   "source": [
    "# identifying tag for the data\n",
    "tag = \"MCF10A\"\n",
    "\n",
    "# directory to put processed data\n",
    "ddir ='processed_data/'%+%tag%+%\"/\"\n",
    "dir.create(ddir,showWarning=FALSE,recursive=TRUE)"
   ]
  },
  {
   "cell_type": "code",
   "execution_count": 4,
   "metadata": {},
   "outputs": [
    {
     "name": "stderr",
     "output_type": "stream",
     "text": [
      "\n",
      "Attaching package: ‘dplyr’\n",
      "\n",
      "\n",
      "The following objects are masked from ‘package:stats’:\n",
      "\n",
      "    filter, lag\n",
      "\n",
      "\n",
      "The following objects are masked from ‘package:base’:\n",
      "\n",
      "    intersect, setdiff, setequal, union\n",
      "\n",
      "\n",
      "\n",
      "Attaching package: ‘data.table’\n",
      "\n",
      "\n",
      "The following objects are masked from ‘package:dplyr’:\n",
      "\n",
      "    between, first, last\n",
      "\n",
      "\n"
     ]
    }
   ],
   "source": [
    "# Now let's make a list containing the feature matrices \n",
    "source('processing_scripts/make_data_matrices.R') # helper script\n",
    "tsv_dir = 'raw_data/'%+%tag%+%'/'\n",
    "data = make_data_matrices(tsv_dir)"
   ]
  },
  {
   "cell_type": "markdown",
   "metadata": {},
   "source": [
    "here each feature matrix is has a row for each well and a column for each spot. We can look at the dimension of the first few feature matrices"
   ]
  },
  {
   "cell_type": "markdown",
   "metadata": {},
   "source": [
    "we'll make the list of features we want to RR transform"
   ]
  },
  {
   "cell_type": "code",
   "execution_count": 5,
   "metadata": {},
   "outputs": [
    {
     "data": {
      "text/html": [
       "<style>\n",
       ".list-inline {list-style: none; margin:0; padding: 0}\n",
       ".list-inline>li {display: inline-block}\n",
       ".list-inline>li:not(:last-child)::after {content: \"\\00b7\"; padding: 0 .5ex}\n",
       "</style>\n",
       "<ol class=list-inline><li>'Nuclei_CP_AreaShape_MaximumRadius'</li><li>'Cells_CP_AreaShape_MaximumRadius'</li><li>'Nuclei_CP_Texture_AngularSecondMoment_Fibrillarin_3_90'</li><li>'Cytoplasm_CP_Intensity_MedianIntensity_KRT19'</li><li>'Cytoplasm_PA_Gated_KRT5PositiveProportion'</li></ol>\n"
      ],
      "text/latex": [
       "\\begin{enumerate*}\n",
       "\\item 'Nuclei\\_CP\\_AreaShape\\_MaximumRadius'\n",
       "\\item 'Cells\\_CP\\_AreaShape\\_MaximumRadius'\n",
       "\\item 'Nuclei\\_CP\\_Texture\\_AngularSecondMoment\\_Fibrillarin\\_3\\_90'\n",
       "\\item 'Cytoplasm\\_CP\\_Intensity\\_MedianIntensity\\_KRT19'\n",
       "\\item 'Cytoplasm\\_PA\\_Gated\\_KRT5PositiveProportion'\n",
       "\\end{enumerate*}\n"
      ],
      "text/markdown": [
       "1. 'Nuclei_CP_AreaShape_MaximumRadius'\n",
       "2. 'Cells_CP_AreaShape_MaximumRadius'\n",
       "3. 'Nuclei_CP_Texture_AngularSecondMoment_Fibrillarin_3_90'\n",
       "4. 'Cytoplasm_CP_Intensity_MedianIntensity_KRT19'\n",
       "5. 'Cytoplasm_PA_Gated_KRT5PositiveProportion'\n",
       "\n",
       "\n"
      ],
      "text/plain": [
       "[1] \"Nuclei_CP_AreaShape_MaximumRadius\"                     \n",
       "[2] \"Cells_CP_AreaShape_MaximumRadius\"                      \n",
       "[3] \"Nuclei_CP_Texture_AngularSecondMoment_Fibrillarin_3_90\"\n",
       "[4] \"Cytoplasm_CP_Intensity_MedianIntensity_KRT19\"          \n",
       "[5] \"Cytoplasm_PA_Gated_KRT5PositiveProportion\"             "
      ]
     },
     "metadata": {},
     "output_type": "display_data"
    }
   ],
   "source": [
    "to_rr = grep(\"_PA_|_CP_\",names(data),value=TRUE)\n",
    "to_rr = to_rr[!grepl(\"_SE\",to_rr)]\n",
    "unum = sapply(to_rr,function(x)length(unique(unlist(data[[x]]))))\n",
    "to_rr = names(unum[unum>20])\n",
    "sample(to_rr,5)"
   ]
  },
  {
   "cell_type": "markdown",
   "metadata": {},
   "source": [
    "and then save the feature matrices and list of features"
   ]
  },
  {
   "cell_type": "code",
   "execution_count": 6,
   "metadata": {},
   "outputs": [],
   "source": [
    "dl = list(data=data,rr_feats = to_rr)"
   ]
  },
  {
   "cell_type": "code",
   "execution_count": 7,
   "metadata": {},
   "outputs": [
    {
     "data": {
      "text/html": [
       "'processed_data/MCF10A/MCF10A.rds'"
      ],
      "text/latex": [
       "'processed\\_data/MCF10A/MCF10A.rds'"
      ],
      "text/markdown": [
       "'processed_data/MCF10A/MCF10A.rds'"
      ],
      "text/plain": [
       "[1] \"processed_data/MCF10A/MCF10A.rds\""
      ]
     },
     "metadata": {},
     "output_type": "display_data"
    }
   ],
   "source": [
    "fn = ddir%+%tag%+%'.rds'\n",
    "fn"
   ]
  },
  {
   "cell_type": "code",
   "execution_count": 8,
   "metadata": {},
   "outputs": [],
   "source": [
    "if(!file.exists(fn))\n",
    "    saveRDS(dl,fn)"
   ]
  },
  {
   "cell_type": "markdown",
   "metadata": {},
   "source": [
    "now we can apply the RR transformation to the matrices (this can take a while)"
   ]
  },
  {
   "cell_type": "markdown",
   "metadata": {},
   "source": [
    "# 2. RRScale"
   ]
  },
  {
   "cell_type": "code",
   "execution_count": 9,
   "metadata": {
    "tags": []
   },
   "outputs": [
    {
     "name": "stdout",
     "output_type": "stream",
     "text": [
      "Reading from cache.\n"
     ]
    }
   ],
   "source": [
    "source('processing_scripts/estimate.R',chdir=TRUE)\n",
    "scaledY_file = ddir%+%\"scaledY_\"%+%tag%+%\".rds\"\n",
    "if(file.exists(scaledY_file)){\n",
    "    cat(\"Reading from cache.\\n\")\n",
    "    scaledY = readRDS(scaledY_file)\n",
    "} else {\n",
    "    cat(\"No cache, re-running.\\n\")\n",
    "    scaledY = scale_data(dl)\n",
    "    saveRDS(scaledY,file=scaledY_file)\n",
    "}"
   ]
  },
  {
   "cell_type": "markdown",
   "metadata": {},
   "source": [
    "# 3. Clean up spatial effects"
   ]
  },
  {
   "cell_type": "code",
   "execution_count": 10,
   "metadata": {},
   "outputs": [],
   "source": [
    "base_fmats = dl$data\n",
    "rr_fmats_unproc = lapply(scaledY,\"[[\",\"RR\")\n",
    "\n",
    "ecmps = factor(unlist(base_fmats$ECMp[1,]))\n",
    "ligands = factor(unlist(base_fmats$Ligand[,1]))"
   ]
  },
  {
   "cell_type": "markdown",
   "metadata": {},
   "source": [
    "find which features are measured in all batches for normalization (the \"dapi\" features)"
   ]
  },
  {
   "cell_type": "code",
   "execution_count": 11,
   "metadata": {
    "tags": []
   },
   "outputs": [
    {
     "name": "stderr",
     "output_type": "stream",
     "text": [
      "\n",
      "Imputing [>-------------------------------------------------------------------------] 2/116 (  2%) elapsed:  2s eta:  2m\n",
      "\n",
      "Imputing [=>------------------------------------------------------------------------] 3/116 (  3%) elapsed:  3s eta:  2m\n",
      "\n",
      "Imputing [==>-----------------------------------------------------------------------] 4/116 (  3%) elapsed:  4s eta:  2m\n",
      "\n",
      "Imputing [==>-----------------------------------------------------------------------] 5/116 (  4%) elapsed:  6s eta:  2m\n",
      "\n",
      "Imputing [===>----------------------------------------------------------------------] 6/116 (  5%) elapsed:  7s eta:  2m\n",
      "\n",
      "Imputing [===>----------------------------------------------------------------------] 7/116 (  6%) elapsed:  8s eta:  2m\n",
      "\n",
      "Imputing [====>---------------------------------------------------------------------] 8/116 (  7%) elapsed: 10s eta:  2m\n",
      "\n",
      "Imputing [=====>--------------------------------------------------------------------] 9/116 (  8%) elapsed: 11s eta:  2m\n",
      "\n",
      "Imputing [=====>-------------------------------------------------------------------] 10/116 (  9%) elapsed: 12s eta:  2m\n",
      "\n",
      "Imputing [======>------------------------------------------------------------------] 11/116 (  9%) elapsed: 14s eta:  2m\n",
      "\n",
      "Imputing [=======>-----------------------------------------------------------------] 12/116 ( 10%) elapsed: 15s eta:  2m\n",
      "\n",
      "Imputing [=======>-----------------------------------------------------------------] 13/116 ( 11%) elapsed: 17s eta:  2m\n",
      "\n",
      "Imputing [========>----------------------------------------------------------------] 14/116 ( 12%) elapsed: 18s eta:  2m\n",
      "\n",
      "Imputing [========>----------------------------------------------------------------] 15/116 ( 13%) elapsed: 19s eta:  2m\n",
      "\n",
      "Imputing [=========>---------------------------------------------------------------] 16/116 ( 14%) elapsed: 21s eta:  2m\n",
      "\n",
      "Imputing [==========>--------------------------------------------------------------] 17/116 ( 15%) elapsed: 22s eta:  2m\n",
      "\n",
      "Imputing [==========>--------------------------------------------------------------] 18/116 ( 16%) elapsed: 23s eta:  2m\n",
      "\n",
      "Imputing [===========>-------------------------------------------------------------] 19/116 ( 16%) elapsed: 25s eta:  2m\n",
      "\n",
      "Imputing [============>------------------------------------------------------------] 20/116 ( 17%) elapsed: 26s eta:  2m\n",
      "\n",
      "Imputing [============>------------------------------------------------------------] 21/116 ( 18%) elapsed: 28s eta:  2m\n",
      "\n",
      "Imputing [=============>-----------------------------------------------------------] 22/116 ( 19%) elapsed: 29s eta:  2m\n",
      "\n",
      "Imputing [=============>-----------------------------------------------------------] 23/116 ( 20%) elapsed: 30s eta:  2m\n",
      "\n",
      "Imputing [==============>----------------------------------------------------------] 24/116 ( 21%) elapsed: 31s eta:  2m\n",
      "\n",
      "Imputing [===============>---------------------------------------------------------] 25/116 ( 22%) elapsed: 33s eta:  2m\n",
      "\n",
      "Imputing [===============>---------------------------------------------------------] 26/116 ( 22%) elapsed: 34s eta:  2m\n",
      "\n",
      "Imputing [================>--------------------------------------------------------] 27/116 ( 23%) elapsed: 35s eta:  2m\n",
      "\n",
      "Imputing [=================>-------------------------------------------------------] 28/116 ( 24%) elapsed: 36s eta:  2m\n",
      "\n",
      "Imputing [=================>-------------------------------------------------------] 29/116 ( 25%) elapsed: 38s eta:  2m\n",
      "\n",
      "Imputing [==================>------------------------------------------------------] 30/116 ( 26%) elapsed: 39s eta:  2m\n",
      "\n",
      "Imputing [===================>-----------------------------------------------------] 31/116 ( 27%) elapsed: 40s eta:  2m\n",
      "\n",
      "Imputing [===================>-----------------------------------------------------] 32/116 ( 28%) elapsed: 42s eta:  2m\n",
      "\n",
      "Imputing [====================>----------------------------------------------------] 33/116 ( 28%) elapsed: 43s eta:  2m\n",
      "\n",
      "Imputing [====================>----------------------------------------------------] 34/116 ( 29%) elapsed: 45s eta:  2m\n",
      "\n",
      "Imputing [=====================>---------------------------------------------------] 35/116 ( 30%) elapsed: 46s eta:  2m\n",
      "\n",
      "Imputing [======================>--------------------------------------------------] 36/116 ( 31%) elapsed: 47s eta:  2m\n",
      "\n",
      "Imputing [======================>--------------------------------------------------] 37/116 ( 32%) elapsed: 49s eta:  2m\n",
      "\n",
      "Imputing [=======================>-------------------------------------------------] 38/116 ( 33%) elapsed: 50s eta:  2m\n",
      "\n",
      "Imputing [========================>------------------------------------------------] 39/116 ( 34%) elapsed:  1m eta:  2m\n",
      "\n",
      "Imputing [========================>------------------------------------------------] 40/116 ( 34%) elapsed:  1m eta:  2m\n",
      "\n",
      "Imputing [=========================>-----------------------------------------------] 41/116 ( 35%) elapsed:  1m eta:  2m\n",
      "\n",
      "Imputing [=========================>-----------------------------------------------] 42/116 ( 36%) elapsed:  1m eta:  2m\n",
      "\n",
      "Imputing [==========================>----------------------------------------------] 43/116 ( 37%) elapsed:  1m eta:  2m\n",
      "\n",
      "Imputing [===========================>---------------------------------------------] 44/116 ( 38%) elapsed:  1m eta:  2m\n",
      "\n",
      "Imputing [===========================>---------------------------------------------] 45/116 ( 39%) elapsed:  1m eta:  2m\n",
      "\n",
      "Imputing [============================>--------------------------------------------] 46/116 ( 40%) elapsed:  1m eta:  2m\n",
      "\n",
      "Imputing [=============================>-------------------------------------------] 47/116 ( 41%) elapsed:  1m eta:  2m\n",
      "\n",
      "Imputing [=============================>-------------------------------------------] 48/116 ( 41%) elapsed:  1m eta:  1m\n",
      "\n",
      "Imputing [==============================>------------------------------------------] 49/116 ( 42%) elapsed:  1m eta:  1m\n",
      "\n",
      "Imputing [==============================>------------------------------------------] 50/116 ( 43%) elapsed:  1m eta:  1m\n",
      "\n",
      "Imputing [===============================>-----------------------------------------] 51/116 ( 44%) elapsed:  1m eta:  1m\n",
      "\n",
      "Imputing [================================>----------------------------------------] 52/116 ( 45%) elapsed:  1m eta:  1m\n",
      "\n",
      "Imputing [================================>----------------------------------------] 53/116 ( 46%) elapsed:  1m eta:  1m\n",
      "\n",
      "Imputing [=================================>---------------------------------------] 54/116 ( 47%) elapsed:  1m eta:  1m\n",
      "\n",
      "Imputing [==================================>--------------------------------------] 55/116 ( 47%) elapsed:  1m eta:  1m\n",
      "\n",
      "Imputing [==================================>--------------------------------------] 56/116 ( 48%) elapsed:  1m eta:  1m\n",
      "\n",
      "Imputing [===================================>-------------------------------------] 57/116 ( 49%) elapsed:  1m eta:  1m\n",
      "\n",
      "Imputing [===================================>-------------------------------------] 58/116 ( 50%) elapsed:  1m eta:  1m\n",
      "\n",
      "Imputing [====================================>------------------------------------] 59/116 ( 51%) elapsed:  1m eta:  1m\n",
      "\n",
      "Imputing [=====================================>-----------------------------------] 60/116 ( 52%) elapsed:  1m eta:  1m\n",
      "\n",
      "Imputing [=====================================>-----------------------------------] 61/116 ( 53%) elapsed:  1m eta:  1m\n",
      "\n",
      "Imputing [======================================>----------------------------------] 62/116 ( 53%) elapsed:  1m eta:  1m\n",
      "\n",
      "Imputing [=======================================>---------------------------------] 63/116 ( 54%) elapsed:  1m eta:  1m\n",
      "\n",
      "Imputing [=======================================>---------------------------------] 64/116 ( 55%) elapsed:  1m eta:  1m\n",
      "\n",
      "Imputing [========================================>--------------------------------] 65/116 ( 56%) elapsed:  1m eta:  1m\n",
      "\n",
      "Imputing [=========================================>-------------------------------] 66/116 ( 57%) elapsed:  1m eta:  1m\n",
      "\n",
      "Imputing [=========================================>-------------------------------] 67/116 ( 58%) elapsed:  1m eta:  1m\n",
      "\n",
      "Imputing [==========================================>------------------------------] 68/116 ( 59%) elapsed:  1m eta:  1m\n",
      "\n",
      "Imputing [==========================================>------------------------------] 69/116 ( 59%) elapsed:  2m eta:  1m\n",
      "\n",
      "Imputing [===========================================>-----------------------------] 70/116 ( 60%) elapsed:  2m eta:  1m\n",
      "\n",
      "Imputing [============================================>----------------------------] 71/116 ( 61%) elapsed:  2m eta:  1m\n",
      "\n",
      "Imputing [============================================>----------------------------] 72/116 ( 62%) elapsed:  2m eta:  1m\n",
      "\n",
      "Imputing [=============================================>---------------------------] 73/116 ( 63%) elapsed:  2m eta:  1m\n",
      "\n",
      "Imputing [==============================================>--------------------------] 74/116 ( 64%) elapsed:  2m eta:  1m\n",
      "\n",
      "Imputing [==============================================>--------------------------] 75/116 ( 65%) elapsed:  2m eta:  1m\n",
      "\n",
      "Imputing [===============================================>-------------------------] 76/116 ( 66%) elapsed:  2m eta:  1m\n",
      "\n",
      "Imputing [===============================================>-------------------------] 77/116 ( 66%) elapsed:  2m eta:  1m\n",
      "\n",
      "Imputing [================================================>------------------------] 78/116 ( 67%) elapsed:  2m eta:  1m\n",
      "\n",
      "Imputing [=================================================>-----------------------] 79/116 ( 68%) elapsed:  2m eta:  1m\n",
      "\n",
      "Imputing [=================================================>-----------------------] 80/116 ( 69%) elapsed:  2m eta: 49s\n",
      "\n",
      "Imputing [==================================================>----------------------] 81/116 ( 70%) elapsed:  2m eta: 48s\n",
      "\n",
      "Imputing [===================================================>---------------------] 82/116 ( 71%) elapsed:  2m eta: 46s\n",
      "\n",
      "Imputing [===================================================>---------------------] 83/116 ( 72%) elapsed:  2m eta: 45s\n",
      "\n",
      "Imputing [====================================================>--------------------] 84/116 ( 72%) elapsed:  2m eta: 44s\n",
      "\n",
      "Imputing [====================================================>--------------------] 85/116 ( 73%) elapsed:  2m eta: 43s\n",
      "\n",
      "Imputing [=====================================================>-------------------] 86/116 ( 74%) elapsed:  2m eta: 41s\n",
      "\n",
      "Imputing [======================================================>------------------] 87/116 ( 75%) elapsed:  2m eta: 40s\n",
      "\n",
      "Imputing [======================================================>------------------] 88/116 ( 76%) elapsed:  2m eta: 39s\n",
      "\n",
      "Imputing [=======================================================>-----------------] 89/116 ( 77%) elapsed:  2m eta: 37s\n",
      "\n",
      "Imputing [========================================================>----------------] 90/116 ( 78%) elapsed:  2m eta: 36s\n",
      "\n",
      "Imputing [========================================================>----------------] 91/116 ( 78%) elapsed:  2m eta: 35s\n",
      "\n",
      "Imputing [=========================================================>---------------] 92/116 ( 79%) elapsed:  2m eta: 33s\n",
      "\n",
      "Imputing [==========================================================>--------------] 93/116 ( 80%) elapsed:  2m eta: 32s\n",
      "\n",
      "Imputing [==========================================================>--------------] 94/116 ( 81%) elapsed:  2m eta: 30s\n",
      "\n",
      "Imputing [===========================================================>-------------] 95/116 ( 82%) elapsed:  2m eta: 29s\n",
      "\n",
      "Imputing [===========================================================>-------------] 96/116 ( 83%) elapsed:  2m eta: 28s\n",
      "\n",
      "Imputing [============================================================>------------] 97/116 ( 84%) elapsed:  2m eta: 26s\n",
      "\n",
      "Imputing [=============================================================>-----------] 98/116 ( 84%) elapsed:  2m eta: 25s\n",
      "\n",
      "Imputing [=============================================================>-----------] 99/116 ( 85%) elapsed:  2m eta: 24s\n",
      "\n",
      "Imputing [=============================================================>----------] 100/116 ( 86%) elapsed:  2m eta: 22s\n",
      "\n",
      "Imputing [==============================================================>---------] 101/116 ( 87%) elapsed:  2m eta: 21s\n",
      "\n",
      "Imputing [==============================================================>---------] 102/116 ( 88%) elapsed:  2m eta: 19s\n",
      "\n",
      "Imputing [===============================================================>--------] 103/116 ( 89%) elapsed:  2m eta: 18s\n",
      "\n",
      "Imputing [================================================================>-------] 104/116 ( 90%) elapsed:  2m eta: 17s\n",
      "\n",
      "Imputing [================================================================>-------] 105/116 ( 91%) elapsed:  2m eta: 15s\n",
      "\n",
      "Imputing [=================================================================>------] 106/116 ( 91%) elapsed:  2m eta: 14s\n",
      "\n",
      "Imputing [=================================================================>------] 107/116 ( 92%) elapsed:  2m eta: 12s\n",
      "\n",
      "Imputing [==================================================================>-----] 108/116 ( 93%) elapsed:  2m eta: 11s\n",
      "\n",
      "Imputing [===================================================================>----] 109/116 ( 94%) elapsed:  3m eta: 10s\n",
      "\n",
      "Imputing [===================================================================>----] 110/116 ( 95%) elapsed:  3m eta:  8s\n",
      "\n",
      "Imputing [====================================================================>---] 111/116 ( 96%) elapsed:  3m eta:  7s\n",
      "\n",
      "Imputing [=====================================================================>--] 112/116 ( 97%) elapsed:  3m eta:  6s\n",
      "\n",
      "Imputing [=====================================================================>--] 113/116 ( 97%) elapsed:  3m eta:  4s\n",
      "\n",
      "Imputing [======================================================================>-] 114/116 ( 98%) elapsed:  3m eta:  3s\n",
      "\n",
      "Imputing [======================================================================>-] 115/116 ( 99%) elapsed:  3m eta:  1s\n",
      "\n",
      "Imputing [========================================================================] 116/116 (100%) elapsed:  3m eta:  0s\n",
      "                                                                                                                        \n",
      "\n"
     ]
    }
   ],
   "source": [
    "rr_fmats_im = lapplyp(rr_fmats_unproc, memanorm::row_impute_fn, ecmps, verbose = TRUE, .name = \"Imputing\")"
   ]
  },
  {
   "cell_type": "code",
   "execution_count": 12,
   "metadata": {},
   "outputs": [],
   "source": [
    "rr_fmats = rr_fmats_im"
   ]
  },
  {
   "cell_type": "code",
   "execution_count": 13,
   "metadata": {},
   "outputs": [],
   "source": [
    "all_batches = names(rr_fmats)"
   ]
  },
  {
   "cell_type": "code",
   "execution_count": 14,
   "metadata": {},
   "outputs": [],
   "source": [
    "d_none = 0\n",
    "unadj_norm_out = remove_spatial(f_mats = rr_fmats,\n",
    "                  adj_idx = all_batches,\n",
    "                  row_rep = ligands,\n",
    "                  col_rep = ecmps,\n",
    "                  d=d_none,\n",
    "                  verbose=FALSE,\n",
    "                  row_center=FALSE,\n",
    "                  row_impute=FALSE)\n",
    "unadj_fmats=unadj_norm_out$f_adj\n",
    "names(unadj_fmats) <- names(unadj_fmats)%+%\"_RR\""
   ]
  },
  {
   "cell_type": "code",
   "execution_count": 15,
   "metadata": {},
   "outputs": [],
   "source": [
    "unadj_fmats0 = rr_fmats_unproc\n",
    "names(unadj_fmats0) <- names(unadj_fmats0)%+%\"_RR\""
   ]
  },
  {
   "cell_type": "code",
   "execution_count": 16,
   "metadata": {},
   "outputs": [],
   "source": [
    "adj_fmat_l = list()"
   ]
  },
  {
   "cell_type": "code",
   "execution_count": 17,
   "metadata": {},
   "outputs": [
    {
     "name": "stdout",
     "output_type": "stream",
     "text": [
      "Adjusting for spatial effects d=0\n",
      "Adjusting for spatial effects d=1\n",
      "Adjusting for spatial effects d=2\n",
      "Adjusting for spatial effects d=3\n",
      "Adjusting for spatial effects d=5\n",
      "Adjusting for spatial effects d=7\n",
      "Adjusting for spatial effects d=10\n",
      "Adjusting for spatial effects d=15\n",
      "Adjusting for spatial effects d=25\n"
     ]
    }
   ],
   "source": [
    "d_adj_list = c(0,1,2,3,5,7,10,15,25)\n",
    "for(d_adj in d_adj_list){\n",
    "    cat(paste0(\"Adjusting for spatial effects d=\",d_adj,\"\\n\"))\n",
    "    flush.console()\n",
    "    norm_out = remove_spatial(f_mats = rr_fmats,\n",
    "                      adj_idx = all_batches,\n",
    "                      row_rep = ligands,\n",
    "                      col_rep = ecmps,\n",
    "                      d=d_adj,\n",
    "                      verbose=FALSE,\n",
    "                      full.results=TRUE,\n",
    "                      row_center=FALSE,\n",
    "                      row_impute=FALSE)\n",
    "    adj_fmats=norm_out$f_adj\n",
    "    names(adj_fmats) <- names(adj_fmats)%+%\"_RR_ADJ\"\n",
    "    adj_fmats_spatial = adj_fmats\n",
    "    \n",
    "    adj_fmat_l[[length(adj_fmat_l)+1]] = adj_fmats\n",
    "}\n"
   ]
  },
  {
   "cell_type": "markdown",
   "metadata": {},
   "source": [
    "# plot $\\hat{S}$"
   ]
  },
  {
   "cell_type": "code",
   "execution_count": 18,
   "metadata": {},
   "outputs": [
    {
     "name": "stderr",
     "output_type": "stream",
     "text": [
      "\n",
      "Attaching package: ‘ggplot2’\n",
      "\n",
      "\n",
      "The following object is masked _by_ ‘.GlobalEnv’:\n",
      "\n",
      "    %+%\n",
      "\n",
      "\n",
      "The following object is masked from ‘package:memanorm’:\n",
      "\n",
      "    %+%\n",
      "\n",
      "\n"
     ]
    }
   ],
   "source": [
    "library('ggplot2')"
   ]
  },
  {
   "cell_type": "code",
   "execution_count": 19,
   "metadata": {},
   "outputs": [],
   "source": [
    "norm_out = remove_spatial(f_mats = rr_fmats,\n",
    "                      adj_idx = all_batches,\n",
    "                      row_rep = ligands,\n",
    "                      col_rep = ecmps,\n",
    "                      d=15,\n",
    "                      verbose=FALSE,\n",
    "                      row_impute=FALSE,\n",
    "                      full.results=TRUE)"
   ]
  },
  {
   "cell_type": "code",
   "execution_count": 20,
   "metadata": {},
   "outputs": [],
   "source": [
    "k=15"
   ]
  },
  {
   "cell_type": "code",
   "execution_count": 21,
   "metadata": {},
   "outputs": [
    {
     "data": {
      "text/html": [
       "<style>\n",
       ".list-inline {list-style: none; margin:0; padding: 0}\n",
       ".list-inline>li {display: inline-block}\n",
       ".list-inline>li:not(:last-child)::after {content: \"\\00b7\"; padding: 0 .5ex}\n",
       "</style>\n",
       "<ol class=list-inline><li>667</li><li>15</li></ol>\n"
      ],
      "text/latex": [
       "\\begin{enumerate*}\n",
       "\\item 667\n",
       "\\item 15\n",
       "\\end{enumerate*}\n"
      ],
      "text/markdown": [
       "1. 667\n",
       "2. 15\n",
       "\n",
       "\n"
      ],
      "text/plain": [
       "[1] 667  15"
      ]
     },
     "metadata": {},
     "output_type": "display_data"
    },
    {
     "name": "stderr",
     "output_type": "stream",
     "text": [
      "Warning message in melt(sh, id.vars = c(\"rw\", \"cl\")):\n",
      "“The melt generic in data.table has been passed a data.frame and will attempt to redirect to the relevant reshape2 method; please note that reshape2 is deprecated, and this redirection is now deprecated as well. To continue using melt methods from reshape2 while both libraries are attached, e.g. melt.list, you can prepend the namespace like reshape2::melt(sh). In the next version, this warning will become an error.”\n"
     ]
    },
    {
     "data": {
      "image/png": "[encoded data removed]",
      "text/plain": [
       "plot without title"
      ]
     },
     "metadata": {
      "image/png": {
       "height": 480,
       "width": 900
      }
     },
     "output_type": "display_data"
    }
   ],
   "source": [
    "sh = norm_out$s_hat[1:k,,drop=FALSE]\n",
    "sh = data.frame(t(sh))\n",
    "colnames(sh) = paste0(\"S\",1:k)\n",
    "dim(sh)\n",
    "rw = base_fmats[['PrintRow']]\n",
    "cl = base_fmats[['PrintColumn']]\n",
    "sh$rw = rw[1,]\n",
    "sh$cl = cl[1,]\n",
    "msh = melt(sh,id.vars=c('rw','cl'))\n",
    "options(repr.plot.width = 15, repr.plot.height = 8)\n",
    "plt = ggplot(data=msh,mapping=aes(x=cl,y=rw,fill=value))+\n",
    "    facet_wrap(~variable,nrow=3,scale='free')+\n",
    "    geom_tile()+\n",
    "    theme_classic()+\n",
    "    scale_fill_gradient2()+\n",
    "    theme(axis.title.x=element_blank(),\n",
    "              axis.text.x=element_blank(),\n",
    "              axis.ticks.x=element_blank())+\n",
    "            theme(axis.title.y=element_blank(),\n",
    "              axis.text.y=element_blank(),\n",
    "              axis.ticks.y=element_blank())\n",
    "plt\n",
    "ggsave(plot=plt,file=\"S.pdf\",width=5,height=5)"
   ]
  },
  {
   "cell_type": "markdown",
   "metadata": {},
   "source": [
    "# 4. make .csv data matrices"
   ]
  },
  {
   "cell_type": "code",
   "execution_count": 22,
   "metadata": {},
   "outputs": [],
   "source": [
    "library('data.table')"
   ]
  },
  {
   "cell_type": "code",
   "execution_count": 23,
   "metadata": {},
   "outputs": [],
   "source": [
    "to_csv = function(adj_fmats,d_adj,tg=''){\n",
    "    cat(d_adj,\"\\n\")\n",
    "    flush.console()\n",
    "    dmsn = dim(base_fmats[[1]])\n",
    "    fmat_col = array(rep(1:dmsn[2],each=dmsn[1]),dmsn)\n",
    "    fmat_row = t(array(rep(1:dmsn[1],each=dmsn[2]),rev(dmsn)))\n",
    "    fmat_dims = list(\"fcol\"=fmat_col,\"frow\"=fmat_row)\n",
    "    \n",
    "    all_fmats = c(base_fmats,unadj_fmats,adj_fmats,fmat_dims)\n",
    "    all_fmats = lapply(all_fmats,data.table)\n",
    "    \n",
    "    ul_all_fmats = lapply(all_fmats,unlist)\n",
    "    d = data.frame(ul_all_fmats)\n",
    "    \n",
    "    dir.create(ddir%+%\"csv/\",showWarnings=FALSE,recursive=TRUE)\n",
    "    write.csv(x=d,file=ddir%+%\"csv/\"%+%tag%+%\"_\"%+%d_adj%+%\"_df\"%+%tg%+%\".csv\")\n",
    "    write.csv(names(adj_fmats),file=ddir%+%\"csv/\"%+%tag%+%\"_\"%+%d_adj%+%\"_features\"%+%tg%+%\".csv\")\n",
    "    return(d)\n",
    "}"
   ]
  },
  {
   "cell_type": "code",
   "execution_count": 24,
   "metadata": {},
   "outputs": [],
   "source": [
    "stopifnot(length(d_adj_list)==length(adj_fmat_l))"
   ]
  },
  {
   "cell_type": "code",
   "execution_count": 25,
   "metadata": {},
   "outputs": [
    {
     "name": "stdout",
     "output_type": "stream",
     "text": [
      "0 \n",
      "1 \n",
      "2 \n",
      "3 \n",
      "5 \n",
      "7 \n",
      "10 \n",
      "15 \n",
      "25 \n"
     ]
    }
   ],
   "source": [
    "toss = lapply(1:length(d_adj_list),function(i)to_csv(adj_fmat_l[[i]],d_adj_list[[i]],tg=''))"
   ]
  }
 ],
 "metadata": {
  "jupytext": {
   "cell_metadata_filter": "-all",
   "formats": "ipynb,Rmd,R"
  },
  "kernelspec": {
   "display_name": "R",
   "language": "R",
   "name": "ir"
  },
  "language_info": {
   "codemirror_mode": "r",
   "file_extension": ".r",
   "mimetype": "text/x-r-source",
   "name": "R",
   "pygments_lexer": "r",
   "version": "4.2.1"
  }
 },
 "nbformat": 4,
 "nbformat_minor": 4
}
